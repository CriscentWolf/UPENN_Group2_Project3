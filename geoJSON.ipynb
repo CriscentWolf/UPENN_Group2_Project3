{
 "cells": [
  {
   "cell_type": "code",
   "execution_count": 1,
   "id": "c379b077",
   "metadata": {},
   "outputs": [],
   "source": [
    "import sqlalchemy\n",
    "from sqlalchemy.ext.automap import automap_base\n",
    "from sqlalchemy.orm import Session\n",
    "from sqlalchemy import create_engine, func\n",
    "import psycopg2\n",
    "import pandas as pd\n",
    "import pprint"
   ]
  },
  {
   "cell_type": "code",
   "execution_count": 2,
   "id": "8a062546",
   "metadata": {},
   "outputs": [],
   "source": [
    "#Credentials found in Connect.py file\n",
    "from Connect import host, dbname, user, password\n",
    "\n",
    "#Engine to connect to the database server.\n",
    "engine = create_engine(f\"postgresql+psycopg2://{user}:{password}@\\\n",
    "{host}/{dbname}\")\n",
    "\n",
    "conn_string = f\"host='{host}' dbname='{dbname}'\\\n",
    "user='{user}' password='{password}'\"\n",
    "\n",
    "conn = psycopg2.connect(conn_string)"
   ]
  },
  {
   "cell_type": "code",
   "execution_count": 3,
   "id": "9d002f9f",
   "metadata": {},
   "outputs": [
    {
     "name": "stdout",
     "output_type": "stream",
     "text": [
      "         country\n",
      "0    Afghanistan\n",
      "1        Albania\n",
      "2        Algeria\n",
      "3        Andorra\n",
      "4         Angola\n",
      "..           ...\n",
      "190    Venezuela\n",
      "191      Vietnam\n",
      "192        Yemen\n",
      "193       Zambia\n",
      "194     Zimbabwe\n",
      "\n",
      "[195 rows x 1 columns]\n"
     ]
    }
   ],
   "source": [
    "# List the columns you want to appear in your dataframe\n",
    "#Leave list empty to return all\n",
    "columns_list = [\n",
    "    'country'\n",
    "]\n",
    "\n",
    "table_df = pd.read_sql_table(\n",
    "    'world_data',\n",
    "    con = engine,\n",
    "    columns = columns_list\n",
    ")\n",
    "print(table_df)"
   ]
  },
  {
   "cell_type": "code",
   "execution_count": 4,
   "id": "6cd1d53a",
   "metadata": {},
   "outputs": [
    {
     "data": {
      "text/plain": [
       "0      {'type': 'Feature', 'properties': {'ADMIN': 'A...\n",
       "1      {'type': 'Feature', 'properties': {'ADMIN': 'A...\n",
       "2      {'type': 'Feature', 'properties': {'ADMIN': 'A...\n",
       "3      {'type': 'Feature', 'properties': {'ADMIN': 'A...\n",
       "4      {'type': 'Feature', 'properties': {'ADMIN': 'A...\n",
       "                             ...                        \n",
       "250    {'type': 'Feature', 'properties': {'ADMIN': 'S...\n",
       "251    {'type': 'Feature', 'properties': {'ADMIN': 'Y...\n",
       "252    {'type': 'Feature', 'properties': {'ADMIN': 'S...\n",
       "253    {'type': 'Feature', 'properties': {'ADMIN': 'Z...\n",
       "254    {'type': 'Feature', 'properties': {'ADMIN': 'Z...\n",
       "Name: features, Length: 255, dtype: object"
      ]
     },
     "execution_count": 4,
     "metadata": {},
     "output_type": "execute_result"
    }
   ],
   "source": [
    "data = pd.read_json('Resources/countries.geojson')\n",
    "data['features']"
   ]
  },
  {
   "cell_type": "code",
   "execution_count": 5,
   "id": "bd28c078",
   "metadata": {},
   "outputs": [
    {
     "data": {
      "text/plain": [
       "0      {'type': 'Feature', 'properties': {'ADMIN': 'A...\n",
       "1      {'type': 'Feature', 'properties': {'ADMIN': 'A...\n",
       "2      {'type': 'Feature', 'properties': {'ADMIN': 'A...\n",
       "3      {'type': 'Feature', 'properties': {'ADMIN': 'A...\n",
       "4      {'type': 'Feature', 'properties': {'ADMIN': 'A...\n",
       "                             ...                        \n",
       "250    {'type': 'Feature', 'properties': {'ADMIN': 'S...\n",
       "251    {'type': 'Feature', 'properties': {'ADMIN': 'Y...\n",
       "252    {'type': 'Feature', 'properties': {'ADMIN': 'S...\n",
       "253    {'type': 'Feature', 'properties': {'ADMIN': 'Z...\n",
       "254    {'type': 'Feature', 'properties': {'ADMIN': 'Z...\n",
       "Name: features, Length: 255, dtype: object"
      ]
     },
     "execution_count": 5,
     "metadata": {},
     "output_type": "execute_result"
    }
   ],
   "source": [
    "dlist = [data['features']]\n",
    "dlist = dlist[0]\n",
    "dlist"
   ]
  },
  {
   "cell_type": "code",
   "execution_count": 6,
   "id": "eee9da41",
   "metadata": {},
   "outputs": [],
   "source": [
    "dlist[0]['properties']['ADMIN']\n",
    "\n",
    "ilist = [dlist[i]['properties']['ADMIN'] for i, j in enumerate(dlist)]\n",
    "a = ilist"
   ]
  },
  {
   "cell_type": "code",
   "execution_count": 7,
   "id": "335a75f4",
   "metadata": {},
   "outputs": [],
   "source": [
    "clist = table_df['country']\n",
    "jlist = [clist[i] for i, j in enumerate(clist)]\n",
    "b = jlist"
   ]
  },
  {
   "cell_type": "code",
   "execution_count": 8,
   "id": "144e6c3b",
   "metadata": {},
   "outputs": [
    {
     "data": {
      "text/plain": [
       "184"
      ]
     },
     "execution_count": 8,
     "metadata": {},
     "output_type": "execute_result"
    }
   ],
   "source": [
    "xlist = [x for x in a if x in b]\n",
    "len(xlist)"
   ]
  },
  {
   "cell_type": "code",
   "execution_count": 9,
   "id": "3f074897",
   "metadata": {},
   "outputs": [
    {
     "data": {
      "text/plain": [
       "['Republic of the Congo',\n",
       " 'Eswatini',\n",
       " 'The Gambia',\n",
       " 'Guinea-Bissau',\n",
       " 'Vatican City',\n",
       " 'Republic of Ireland',\n",
       " 'North Macedonia',\n",
       " 'Palestinian National Authority',\n",
       " 'S�����������',\n",
       " 'Serbia',\n",
       " 'Tanzania']"
      ]
     },
     "execution_count": 9,
     "metadata": {},
     "output_type": "execute_result"
    }
   ],
   "source": [
    "db_missing_list = [x for x in b if x not in a]\n",
    "db_missing_list"
   ]
  },
  {
   "cell_type": "code",
   "execution_count": 10,
   "id": "bd814aa6",
   "metadata": {},
   "outputs": [
    {
     "data": {
      "text/plain": [
       "['Aruba',\n",
       " 'Anguilla',\n",
       " 'Aland',\n",
       " 'American Samoa',\n",
       " 'Antarctica',\n",
       " 'Ashmore and Cartier Islands',\n",
       " 'French Southern and Antarctic Lands',\n",
       " 'Bajo Nuevo Bank (Petrel Is.)',\n",
       " 'Saint Barthelemy',\n",
       " 'Bermuda',\n",
       " 'Clipperton Island',\n",
       " 'Cyprus No Mans Area',\n",
       " 'Republic of Congo',\n",
       " 'Cook Islands',\n",
       " 'Coral Sea Islands',\n",
       " 'Curaçao',\n",
       " 'Cayman Islands',\n",
       " 'Northern Cyprus',\n",
       " 'Dhekelia Sovereign Base Area',\n",
       " 'Falkland Islands',\n",
       " 'Faroe Islands',\n",
       " 'Guernsey',\n",
       " 'Gibraltar',\n",
       " 'Gambia',\n",
       " 'Guinea Bissau',\n",
       " 'Greenland',\n",
       " 'Guam',\n",
       " 'Hong Kong S.A.R.',\n",
       " 'Heard Island and McDonald Islands',\n",
       " 'Isle of Man',\n",
       " 'Indian Ocean Territories',\n",
       " 'British Indian Ocean Territory',\n",
       " 'Ireland',\n",
       " 'Jersey',\n",
       " 'Baykonur Cosmodrome',\n",
       " 'Siachen Glacier',\n",
       " 'Kosovo',\n",
       " 'Macao S.A.R',\n",
       " 'Saint Martin',\n",
       " 'Macedonia',\n",
       " 'Northern Mariana Islands',\n",
       " 'Montserrat',\n",
       " 'New Caledonia',\n",
       " 'Norfolk Island',\n",
       " 'Niue',\n",
       " 'Pitcairn Islands',\n",
       " 'Spratly Islands',\n",
       " 'Puerto Rico',\n",
       " 'Palestine',\n",
       " 'French Polynesia',\n",
       " 'Western Sahara',\n",
       " 'Scarborough Reef',\n",
       " 'Serranilla Bank',\n",
       " 'South Georgia and South Sandwich Islands',\n",
       " 'Saint Helena',\n",
       " 'Somaliland',\n",
       " 'Saint Pierre and Miquelon',\n",
       " 'Republic of Serbia',\n",
       " 'Sao Tome and Principe',\n",
       " 'Swaziland',\n",
       " 'Sint Maarten',\n",
       " 'Turks and Caicos Islands',\n",
       " 'Taiwan',\n",
       " 'United Republic of Tanzania',\n",
       " 'United States Minor Outlying Islands',\n",
       " 'US Naval Base Guantanamo Bay',\n",
       " 'Vatican',\n",
       " 'British Virgin Islands',\n",
       " 'United States Virgin Islands',\n",
       " 'Wallis and Futuna',\n",
       " 'Akrotiri Sovereign Base Area']"
      ]
     },
     "execution_count": 10,
     "metadata": {},
     "output_type": "execute_result"
    }
   ],
   "source": [
    "geojson_missing_list = [x for x in a if x not in b]\n",
    "geojson_missing_list"
   ]
  },
  {
   "cell_type": "code",
   "execution_count": null,
   "id": "f5eeb213",
   "metadata": {},
   "outputs": [],
   "source": []
  }
 ],
 "metadata": {
  "kernelspec": {
   "display_name": "Python 3 (ipykernel)",
   "language": "python",
   "name": "python3"
  },
  "language_info": {
   "codemirror_mode": {
    "name": "ipython",
    "version": 3
   },
   "file_extension": ".py",
   "mimetype": "text/x-python",
   "name": "python",
   "nbconvert_exporter": "python",
   "pygments_lexer": "ipython3",
   "version": "3.9.13"
  }
 },
 "nbformat": 4,
 "nbformat_minor": 5
}
